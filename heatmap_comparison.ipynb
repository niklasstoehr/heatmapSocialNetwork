{
 "cells": [
  {
   "cell_type": "markdown",
   "metadata": {},
   "source": [
    "# Dynamic Heatmap Visualization of Big Geospatial Data"
   ]
  },
  {
   "cell_type": "markdown",
   "metadata": {},
   "source": [
    "by Niklas Stoehr, 18/05/2018\n",
    "\n",
    "twitterMap demo: http://cloudberry.ics.uci.edu/apps/twittermap"
   ]
  },
  {
   "cell_type": "markdown",
   "metadata": {},
   "source": [
    "import dependencies"
   ]
  },
  {
   "cell_type": "code",
   "execution_count": null,
   "metadata": {
    "collapsed": true
   },
   "outputs": [],
   "source": [
    "import numpy as np\n",
    "from random import randint\n",
    "import math\n",
    "import pandas as pd\n",
    "import re\n",
    "import time\n",
    "import datetime\n",
    "from datetime import datetime\n",
    "import timeit\n",
    "import json\n",
    "import requests\n",
    "import matplotlib.pyplot as plt\n",
    "import matplotlib as mpl\n",
    "from math import *\n",
    "from pyemd import emd"
   ]
  },
  {
   "cell_type": "markdown",
   "metadata": {},
   "source": [
    "user specification: database, keyword, grid granularity\n",
    "measurements of the map\n",
    "\n",
    "try: iphone, election, me, christmas, monday, coffee, zika, nyc, superbowl, rain"
   ]
  },
  {
   "cell_type": "code",
   "execution_count": null,
   "metadata": {
    "collapsed": true
   },
   "outputs": [],
   "source": [
    "# user specification\n",
    "server = \"ipubmed2.ics.uci.edu\"\n",
    "keyword = \"coffee\"\n",
    "cellSize = 1.0\n",
    "\n",
    "# map measurement\n",
    "farwest = -135\n",
    "fareast = -65\n",
    "farnorth = 60\n",
    "farsouth = 20\n",
    "\n",
    "\n",
    "#______________________________________________\n",
    "\n",
    "WestEastExtent = int(abs(farwest - fareast))\n",
    "NorthSouthExtent = int(abs(farnorth - farsouth))\n",
    "xCellLength = int(WestEastExtent/cellSize)\n",
    "yCellLength = int(NorthSouthExtent/cellSize)\n",
    "gridCells = (xCellLength * yCellLength)"
   ]
  },
  {
   "cell_type": "markdown",
   "metadata": {},
   "source": [
    "## Decoupled Approach"
   ]
  },
  {
   "cell_type": "markdown",
   "metadata": {},
   "source": [
    "query data and transmit"
   ]
  },
  {
   "cell_type": "code",
   "execution_count": null,
   "metadata": {},
   "outputs": [],
   "source": [
    "startTime1 = time.clock()\n",
    "\n",
    "sqlQuery = \"use twitter;\\nselect get_points(place.bounding_box)[0] as geoPoint from ds_tweet where place.bounding_box is not unknown and ftcontains(text, ['\"+str(keyword)+\"'], {'mode':'any'});\"\n",
    "headers = {'Content-type': 'query/service'}\n",
    "\n",
    "requestAnswer = requests.post('http://' + server + ':19002/query/service', headers=headers, data=sqlQuery)\n",
    "jsonData1 = requestAnswer.json()\n",
    "\n",
    "tweets1 = jsonData1['metrics']['resultCount']\n",
    "\n",
    "stopTime1 = time.clock()\n",
    "queryTime1 = (stopTime1 - startTime1)\n",
    "\n",
    "print json.dumps(jsonData1, indent=4, sort_keys=True)"
   ]
  },
  {
   "cell_type": "markdown",
   "metadata": {},
   "source": [
    "normalize data, build grid and visualize"
   ]
  },
  {
   "cell_type": "code",
   "execution_count": null,
   "metadata": {},
   "outputs": [],
   "source": [
    "startTime1 = time.clock()\n",
    "error = 0\n",
    "\n",
    "grid1 = np.empty([yCellLength, xCellLength])\n",
    "grid1.fill(0)\n",
    "\n",
    "# fill grid\n",
    "for x in range(0, tweets1):\n",
    "\n",
    "    # xCoordinate\n",
    "    normalizeX = int(abs(farwest - jsonData1['results'][x]['geoPoint'][0]) / cellSize)\n",
    "\n",
    "    # yCoordinate\n",
    "    normalizeY = int((((abs(farnorth - jsonData1['results'][x]['geoPoint'][1])) - cellSize) / cellSize)+1)\n",
    "\n",
    "    #print normalizeX\n",
    "    #print normalizeY\n",
    "\n",
    "    try:\n",
    "        grid1[normalizeY][normalizeX] += 1\n",
    "    except:\n",
    "        error += 1\n",
    "        #print \"data out of range: \", normalizeX, normalizeY, jsonData['results'][x]['geoPoint']\n",
    "    pass\n",
    "\n",
    "print pd.DataFrame(grid1)\n",
    "\n",
    "# find largest value to adjust colour in matrix\n",
    "largestCNT = np.matrix(grid1).max()\n",
    "smallestCNT = np.matrix(grid1).min()\n",
    "\n",
    "# create discrete colormap\n",
    "cmap = 'hot'\n",
    "norm = mpl.colors.Normalize(vmin=smallestCNT, vmax=largestCNT)\n",
    "fig, ax = plt.subplots()\n",
    "\n",
    "ax.imshow(grid1, cmap=cmap, norm=norm, interpolation='spline36')\n",
    "#ax.imshow(geoMatrix, cmap= cmap, norm=norm)\n",
    "\n",
    "print yCellLength\n",
    "\n",
    "# draw gridlines\n",
    "ax.grid(which='major', axis='none', linestyle='', color='k', linewidth=1)\n",
    "ax.set_xticks(np.arange(0, xCellLength, xCellLength/4));\n",
    "ax.set_yticks(np.arange(0, yCellLength, yCellLength/4));\n",
    "\n",
    "stopTime1 = time.clock()\n",
    "gridTime1 = (stopTime1 - startTime1)\n",
    "\n",
    "print \"\\n\\t\\tdecoupled approach\"\n",
    "plt.show()"
   ]
  },
  {
   "cell_type": "markdown",
   "metadata": {},
   "source": [
    "## Integrated Approach"
   ]
  },
  {
   "cell_type": "markdown",
   "metadata": {},
   "source": [
    "query data and transmit"
   ]
  },
  {
   "cell_type": "code",
   "execution_count": null,
   "metadata": {},
   "outputs": [],
   "source": [
    "startTime2 = time.clock()\n",
    "\n",
    "startDate = '2017-06-25'#'2017-01-24'\n",
    "endDate = '2017-06-30'#'2017-09-09'\n",
    "\n",
    "sqlQuery = \"use twitter;\\nselect spatial_cell(get_points(place.bounding_box)[0], create_point(0.0,0.0),\" + str(cellSize) + \",\" + str(cellSize) + \") as cell, count(*) as cnt from ds_tweet_\" + str(keyword) + \" WHERE ftcontains(text, ['\" + str(keyword) + \"'], {'mode':'any'}) AND place.bounding_box is not unknown AND create_at >= datetime('\" + str(startDate) + \"T00:00:00') AND create_at < datetime('\" + str(endDate) + \"T00:00:00')group by cell;\"\n",
    "headers = {'Content-type': 'query/service'}\n",
    "requestAnswer = requests.post('http://' + server + ':19002/query/service', headers=headers, data=sqlQuery)\n",
    "jsonData2 = requestAnswer.json()\n",
    "\n",
    "resultLength2 = jsonData2['metrics']['resultCount']\n",
    "\n",
    "tweets2 = 0\n",
    "for x in range(0, resultLength2):\n",
    "    tweets2 = tweets2 + jsonData2['results'][x]['cnt']\n",
    "\n",
    "stopTime2 = time.clock()\n",
    "queryTime2 = (stopTime2 - startTime2)\n",
    "\n",
    "print json.dumps(jsonData2, indent=4, sort_keys=True)"
   ]
  },
  {
   "cell_type": "markdown",
   "metadata": {},
   "source": [
    "normalize data, build grid and visualize"
   ]
  },
  {
   "cell_type": "code",
   "execution_count": null,
   "metadata": {},
   "outputs": [],
   "source": [
    "startTime2 = time.clock()\n",
    "error = 0\n",
    "\n",
    "grid2 = np.empty([yCellLength, xCellLength])\n",
    "grid2.fill(0)\n",
    "\n",
    "# fill grid\n",
    "for x in range(0, resultLength2):\n",
    "    \n",
    "    # xCoordinate\n",
    "    normalizeX = int((abs(farwest - jsonData2['results'][x]['cell'][0][0])) / cellSize)\n",
    "\n",
    "    # yCoordinate\n",
    "    normalizeY = int((abs(farnorth - jsonData2['results'][x]['cell'][0][1]) - cellSize) / cellSize)\n",
    "\n",
    "    try:\n",
    "        grid2[normalizeY][normalizeX] = grid2[normalizeY][normalizeX] + jsonData2['results'][x]['cnt']\n",
    "    except:\n",
    "        error += 1\n",
    "        #print \"data out of range: \", normalizeX, normalizeY, jsonData['results'][x]['cnt']\n",
    "    pass\n",
    "\n",
    "print pd.DataFrame(grid2)\n",
    "\n",
    "# find largest value to adjust colour in matrix\n",
    "largestCNT = np.matrix(grid2).max()\n",
    "smallestCNT = np.matrix(grid2).min()\n",
    "\n",
    "print largestCNT\n",
    "\n",
    "# create discrete colormap\n",
    "cmap = 'hot'\n",
    "\n",
    "norm = mpl.colors.Normalize(vmin=smallestCNT, vmax=largestCNT)\n",
    "fig, ax = plt.subplots()\n",
    "\n",
    "ax.imshow(grid2, cmap=cmap, norm=norm, interpolation='spline36')\n",
    "\n",
    "fig.canvas.set_window_title(\"grid\")\n",
    "\n",
    "# draw gridlines\n",
    "ax.grid(which='major', axis='none', linestyle='', color='k', linewidth=1)\n",
    "ax.set_xticks(np.arange(0, xCellLength, xCellLength / 4));\n",
    "ax.set_yticks(np.arange(0, yCellLength, yCellLength / 4));\n",
    "\n",
    "stopTime2 = time.clock()\n",
    "gridTime2 = (stopTime2 - startTime2)\n",
    "\n",
    "print \"\\n\\t\\tintegrated approach\"\n",
    "plt.show()"
   ]
  },
  {
   "cell_type": "markdown",
   "metadata": {
    "collapsed": true
   },
   "source": [
    "## Compare Time and Heat Map Results"
   ]
  },
  {
   "cell_type": "code",
   "execution_count": null,
   "metadata": {},
   "outputs": [],
   "source": [
    "print 'similarity\\n'\n",
    "\n",
    "\n",
    "# interpolate tweets\n",
    "scaleFactorTweets = float(tweets1)/float(tweets2)\n",
    "grid2Scaled = np.multiply(grid2, scaleFactorTweets)\n",
    "\n",
    "#print pd.DataFrame(grid1)\n",
    "#print pd.DataFrame(grid2Scaled)\n",
    "\n",
    "\n",
    "grid1Reshape = grid1.reshape(-1)\n",
    "grid2ScaledReshape = grid2Scaled.reshape(-1)\n",
    "\n",
    "\n",
    "\n",
    "\n",
    "# Euclidean\n",
    "def euclidean_distance(x, y):\n",
    "    return sqrt(sum(pow(a - b, 2) for a, b in zip(x, y)))\n",
    "\n",
    "euclidean = pow(euclidean_distance(grid1Reshape, grid2ScaledReshape),1)\n",
    "similarity = (1 / (1 + euclidean)) * 10\n",
    "\n",
    "#print '\\neuclidean: ',euclidean\n",
    "#print 'euclidean similiarity in percent: ', (similarity)*100,'%', '\\n'\n",
    "\n",
    "# EDM\n",
    "distance_matrixLength = xCellLength * yCellLength\n",
    "distance_matrix = np.empty([distance_matrixLength, distance_matrixLength])\n",
    "distance_matrix.fill(1)\n",
    "\n",
    "maximumDistance = tweets1\n",
    "emdValue = emd(grid1Reshape, grid2ScaledReshape, distance_matrix)\n",
    "\n",
    "print 'EMD: ',emdValue\n",
    "print 'EMD similiarity in percent: ', (1-(emdValue / maximumDistance)),'%'\n",
    "\n",
    "print '\\n\\nnumber of tweets\\n'\n",
    "\n",
    "print 'decoupled approach: ', tweets1\n",
    "print 'integrated approach: ', tweets2\n",
    "\n",
    "print '\\n\\nelapsed time'\n",
    "\n",
    "print '\\ndecoupled approach: ', (queryTime1 + gridTime1), ' seconds'  \n",
    "print 'integrated approach: ', (queryTime2 + gridTime2), ' seconds'   \n"
   ]
  },
  {
   "cell_type": "code",
   "execution_count": null,
   "metadata": {
    "collapsed": true
   },
   "outputs": [],
   "source": []
  }
 ],
 "metadata": {
  "kernelspec": {
   "display_name": "Python 2",
   "language": "python",
   "name": "python2"
  },
  "language_info": {
   "codemirror_mode": {
    "name": "ipython",
    "version": 2
   },
   "file_extension": ".py",
   "mimetype": "text/x-python",
   "name": "python",
   "nbconvert_exporter": "python",
   "pygments_lexer": "ipython2",
   "version": "2.7.14"
  }
 },
 "nbformat": 4,
 "nbformat_minor": 1
}
